{
 "cells": [
  {
   "cell_type": "code",
   "execution_count": 1,
   "metadata": {},
   "outputs": [],
   "source": [
    "import pandas as pd\n",
    "import numpy as np\n",
    "from sklearn.model_selection import train_test_split\n",
    "\n",
    "data = pd.read_csv(\"../../../datasets/vehicles.csv\")\n",
    "\n",
    "x_features= data.drop([\"Class\"],axis=1)\n",
    "x_labels=data[\"Class\"]\n",
    "\n",
    "x_train,x_test,y_train,y_test = train_test_split(x_features,x_labels,test_size=0.3)"
   ]
  },
  {
   "cell_type": "code",
   "execution_count": 2,
   "metadata": {},
   "outputs": [],
   "source": [
    "from sklearn.ensemble import RandomForestClassifier\n",
    "\n",
    "rdf = RandomForestClassifier()\n",
    "rdf.fit(x_train, y_train)\n",
    "pred_rdf = rdf.predict_proba(x_test)"
   ]
  },
  {
   "cell_type": "code",
   "execution_count": 3,
   "metadata": {},
   "outputs": [
    {
     "name": "stdout",
     "output_type": "stream",
     "text": [
      "[[0.   0.15 0.08 0.77]\n",
      " [0.   0.   0.   1.  ]\n",
      " [0.98 0.   0.02 0.  ]\n",
      " ...\n",
      " [1.   0.   0.   0.  ]\n",
      " [0.14 0.31 0.19 0.36]\n",
      " [0.   0.3  0.05 0.65]]\n",
      "['bus' 'opel' 'saab' 'van']\n",
      "658     van\n",
      "121     van\n",
      "465     bus\n",
      "49     saab\n",
      "85      bus\n",
      "       ... \n",
      "164    opel\n",
      "702    opel\n",
      "632     bus\n",
      "522    saab\n",
      "219     van\n",
      "Name: Class, Length: 254, dtype: object\n"
     ]
    }
   ],
   "source": [
    "print(pred_rdf)\n",
    "print(rdf.classes_)\n",
    "print(y_test)"
   ]
  },
  {
   "cell_type": "code",
   "execution_count": 4,
   "metadata": {},
   "outputs": [
    {
     "name": "stdout",
     "output_type": "stream",
     "text": [
      "Total number of misclassified datapoints: 73\n"
     ]
    },
    {
     "data": {
      "image/png": "[encoded data removed]",
      "text/plain": [
       "<Figure size 432x288 with 1 Axes>"
      ]
     },
     "metadata": {
      "needs_background": "light"
     },
     "output_type": "display_data"
    }
   ],
   "source": [
    "import plot_misclassification_data\n",
    "\n",
    "plot_misclassification_data.plot_misclassified_probablities(pred_rdf,rdf.classes_,y_test,10)"
   ]
  }
 ],
 "metadata": {
  "kernelspec": {
   "display_name": "Python 3",
   "language": "python",
   "name": "python3"
  },
  "language_info": {
   "codemirror_mode": {
    "name": "ipython",
    "version": 3
   },
   "file_extension": ".py",
   "mimetype": "text/x-python",
   "name": "python",
   "nbconvert_exporter": "python",
   "pygments_lexer": "ipython3",
   "version": "3.7.3"
  }
 },
 "nbformat": 4,
 "nbformat_minor": 4
}
