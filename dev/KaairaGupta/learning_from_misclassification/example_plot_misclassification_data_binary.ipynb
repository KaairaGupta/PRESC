{
 "cells": [
  {
   "cell_type": "code",
   "execution_count": 1,
   "metadata": {},
   "outputs": [],
   "source": [
    "import pandas as pd\n",
    "import numpy as np\n",
    "from sklearn.model_selection import train_test_split\n",
    "\n",
    "data = pd.read_csv(\"../../../datasets/eeg.csv\")\n",
    "\n",
    "x_features= data.drop([\"Class\"],axis=1)\n",
    "x_labels=data[\"Class\"]\n",
    "\n",
    "x_train,x_test,y_train,y_test = train_test_split(x_features,x_labels,test_size=0.3)"
   ]
  },
  {
   "cell_type": "code",
   "execution_count": 2,
   "metadata": {},
   "outputs": [],
   "source": [
    "from sklearn.ensemble import RandomForestClassifier\n",
    "\n",
    "rdf = RandomForestClassifier()\n",
    "rdf.fit(x_train, y_train)\n",
    "pred_rdf = rdf.predict_proba(x_test)"
   ]
  },
  {
   "cell_type": "code",
   "execution_count": 3,
   "metadata": {},
   "outputs": [
    {
     "name": "stdout",
     "output_type": "stream",
     "text": [
      "[[0.72 0.28]\n",
      " [0.52 0.48]\n",
      " [0.46 0.54]\n",
      " ...\n",
      " [0.89 0.11]\n",
      " [0.97 0.03]\n",
      " [0.16 0.84]] \n",
      "\n",
      "[1 2] \n",
      "\n",
      "9939     1\n",
      "14482    1\n",
      "13995    1\n",
      "4141     2\n",
      "10771    1\n",
      "        ..\n",
      "559      2\n",
      "5880     2\n",
      "12646    1\n",
      "12829    1\n",
      "5394     2\n",
      "Name: Class, Length: 4493, dtype: int64\n"
     ]
    }
   ],
   "source": [
    "print(pred_rdf,\"\\n\")\n",
    "print(rdf.classes_,\"\\n\")\n",
    "print(y_test)"
   ]
  },
  {
   "cell_type": "code",
   "execution_count": 4,
   "metadata": {},
   "outputs": [
    {
     "name": "stdout",
     "output_type": "stream",
     "text": [
      "Number of misclassified datapoints: 362\n"
     ]
    },
    {
     "data": {
      "image/png": "[encoded data removed]",
      "text/plain": [
       "<Figure size 432x288 with 1 Axes>"
      ]
     },
     "metadata": {
      "needs_background": "light"
     },
     "output_type": "display_data"
    }
   ],
   "source": [
    "import plot_misclassification_data\n",
    "\n",
    "plot_misclassification_data.plot_misclassified_probablities(pred_rdf,rdf.classes_,y_test)"
   ]
  }
 ],
 "metadata": {
  "kernelspec": {
   "display_name": "Python 3",
   "language": "python",
   "name": "python3"
  },
  "language_info": {
   "codemirror_mode": {
    "name": "ipython",
    "version": 3
   },
   "file_extension": ".py",
   "mimetype": "text/x-python",
   "name": "python",
   "nbconvert_exporter": "python",
   "pygments_lexer": "ipython3",
   "version": "3.7.3"
  }
 },
 "nbformat": 4,
 "nbformat_minor": 4
}
