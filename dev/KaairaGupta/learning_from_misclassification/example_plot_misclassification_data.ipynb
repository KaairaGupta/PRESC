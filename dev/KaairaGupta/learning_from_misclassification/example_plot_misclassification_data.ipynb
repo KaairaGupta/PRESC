{
 "cells": [
  {
   "cell_type": "code",
   "execution_count": 1,
   "metadata": {},
   "outputs": [],
   "source": [
    "import pandas as pd\n",
    "import numpy as np\n",
    "from sklearn.model_selection import train_test_split\n",
    "\n",
    "data = pd.read_csv(\"../../../datasets/vehicles.csv\")\n",
    "\n",
    "x_features= data.drop([\"Class\"],axis=1)\n",
    "x_labels=data[\"Class\"]\n",
    "\n",
    "x_train,x_test,y_train,y_test = train_test_split(x_features,x_labels,test_size=0.3)"
   ]
  },
  {
   "cell_type": "code",
   "execution_count": 2,
   "metadata": {},
   "outputs": [],
   "source": [
    "from sklearn.ensemble import RandomForestClassifier\n",
    "\n",
    "rdf = RandomForestClassifier()\n",
    "rdf.fit(x_train, y_train)\n",
    "pred_rdf = rdf.predict_proba(x_test)"
   ]
  },
  {
   "cell_type": "code",
   "execution_count": 3,
   "metadata": {},
   "outputs": [
    {
     "data": {
      "text/plain": [
       "array([[0.01, 0.21, 0.22, 0.56],\n",
       "       [0.25, 0.36, 0.37, 0.02],\n",
       "       [1.  , 0.  , 0.  , 0.  ],\n",
       "       ...,\n",
       "       [0.01, 0.14, 0.85, 0.  ],\n",
       "       [0.1 , 0.28, 0.39, 0.23],\n",
       "       [0.12, 0.04, 0.05, 0.79]])"
      ]
     },
     "execution_count": 3,
     "metadata": {},
     "output_type": "execute_result"
    }
   ],
   "source": [
    "pred_rdf"
   ]
  },
  {
   "cell_type": "code",
   "execution_count": 5,
   "metadata": {},
   "outputs": [
    {
     "data": {
      "text/plain": [
       "array(['opel', 'opel', 'bus', 'saab', 'bus', 'opel', 'bus', 'van', 'opel',\n",
       "       'opel', 'opel', 'saab', 'opel', 'van', 'opel', 'saab', 'opel',\n",
       "       'bus', 'van', 'opel', 'bus', 'opel', 'saab', 'bus', 'saab', 'saab',\n",
       "       'van', 'van', 'opel', 'opel', 'saab', 'opel', 'bus', 'opel', 'van',\n",
       "       'saab', 'saab', 'van', 'opel', 'opel', 'opel', 'saab', 'van',\n",
       "       'opel', 'opel', 'saab', 'bus', 'van', 'saab', 'saab', 'bus',\n",
       "       'opel', 'saab', 'opel', 'saab', 'bus', 'van', 'saab', 'bus', 'bus',\n",
       "       'opel', 'saab', 'saab', 'van', 'bus', 'bus', 'van', 'bus', 'bus',\n",
       "       'saab', 'bus', 'van', 'bus', 'bus', 'opel', 'opel', 'opel', 'saab',\n",
       "       'saab', 'bus', 'van', 'bus', 'van', 'saab', 'van', 'saab', 'van',\n",
       "       'opel', 'van', 'bus', 'van', 'saab', 'saab', 'opel', 'opel', 'bus',\n",
       "       'van', 'saab', 'opel', 'bus', 'opel', 'bus', 'opel', 'bus', 'opel',\n",
       "       'opel', 'bus', 'van', 'bus', 'bus', 'van', 'opel', 'bus', 'van',\n",
       "       'bus', 'bus', 'bus', 'van', 'van', 'van', 'bus', 'saab', 'bus',\n",
       "       'saab', 'van', 'saab', 'van', 'opel', 'opel', 'bus', 'van', 'saab',\n",
       "       'saab', 'saab', 'opel', 'saab', 'saab', 'opel', 'van', 'opel',\n",
       "       'saab', 'opel', 'opel', 'van', 'van', 'bus', 'saab', 'saab',\n",
       "       'saab', 'bus', 'van', 'bus', 'van', 'saab', 'bus', 'opel', 'van',\n",
       "       'saab', 'van', 'opel', 'saab', 'saab', 'van', 'van', 'van', 'saab',\n",
       "       'van', 'opel', 'opel', 'van', 'saab', 'van', 'saab', 'van', 'bus',\n",
       "       'opel', 'saab', 'saab', 'opel', 'saab', 'saab', 'saab', 'saab',\n",
       "       'van', 'bus', 'opel', 'van', 'van', 'saab', 'van', 'saab', 'bus',\n",
       "       'saab', 'bus', 'opel', 'bus', 'van', 'opel', 'bus', 'van', 'opel',\n",
       "       'bus', 'opel', 'opel', 'saab', 'bus', 'opel', 'van', 'van', 'saab',\n",
       "       'van', 'saab', 'saab', 'saab', 'bus', 'opel', 'opel', 'bus',\n",
       "       'saab', 'bus', 'bus', 'van', 'van', 'saab', 'saab', 'saab', 'saab',\n",
       "       'bus', 'bus', 'opel', 'bus', 'van', 'saab', 'saab', 'saab', 'saab',\n",
       "       'saab', 'van', 'van', 'van', 'opel', 'saab', 'van', 'opel', 'opel',\n",
       "       'bus', 'opel', 'van', 'opel', 'van', 'opel', 'saab', 'opel', 'van'],\n",
       "      dtype=object)"
      ]
     },
     "execution_count": 5,
     "metadata": {},
     "output_type": "execute_result"
    }
   ],
   "source": [
    "np.array(y_test)"
   ]
  },
  {
   "cell_type": "code",
   "execution_count": null,
   "metadata": {},
   "outputs": [],
   "source": []
  }
 ],
 "metadata": {
  "kernelspec": {
   "display_name": "Python 3",
   "language": "python",
   "name": "python3"
  },
  "language_info": {
   "codemirror_mode": {
    "name": "ipython",
    "version": 3
   },
   "file_extension": ".py",
   "mimetype": "text/x-python",
   "name": "python",
   "nbconvert_exporter": "python",
   "pygments_lexer": "ipython3",
   "version": "3.7.3"
  }
 },
 "nbformat": 4,
 "nbformat_minor": 4
}
